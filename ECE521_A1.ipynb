{
 "cells": [
  {
   "cell_type": "code",
   "execution_count": 14,
   "metadata": {
    "collapsed": true
   },
   "outputs": [],
   "source": [
    "%matplotlib inline\n",
    "import numpy as np\n",
    "from matplotlib import pyplot as plt"
   ]
  },
  {
   "cell_type": "code",
   "execution_count": 15,
   "metadata": {
    "collapsed": false
   },
   "outputs": [],
   "source": [
    "# x is the data, t is the label\n",
    "# In t, 0 is '3' and 1 is '5'\n",
    "with np.load(\"TINY_MNIST.npz\") as data:\n",
    "    x, t = data[\"x\"], data[\"t\"]\n",
    "    x_eval, t_eval = data[\"x_eval\"], data[\"t_eval\"]\n",
    "    "
   ]
  },
  {
   "cell_type": "code",
   "execution_count": 16,
   "metadata": {
    "collapsed": false
   },
   "outputs": [
    {
     "data": {
      "text/plain": [
       "<matplotlib.image.AxesImage at 0x1064a5610>"
      ]
     },
     "execution_count": 16,
     "metadata": {},
     "output_type": "execute_result"
    },
    {
     "data": {
      "image/png": "[encoded data removed]",
      "text/plain": [
       "<matplotlib.figure.Figure at 0x105949f50>"
      ]
     },
     "metadata": {},
     "output_type": "display_data"
    }
   ],
   "source": [
    "# Just plotting to see what the images look like\n",
    "temp = np.copy(x_eval[0])\n",
    "temp = temp.reshape(8,8)\n",
    "plt.imshow(temp, interpolation='nearest')"
   ]
  },
  {
   "cell_type": "code",
   "execution_count": 17,
   "metadata": {
    "collapsed": false
   },
   "outputs": [],
   "source": [
    "# Alg for kNN\n",
    "def sq_err(img, train_set, train_label):\n",
    "    ans_list = []\n",
    "    for i in range(train_set.shape[0]):\n",
    "        delta = img - train_set[i]\n",
    "        sq_err = delta.dot(delta.T)\n",
    "        ans_list.append((sq_err, train_label[i,0]))\n",
    "    sorted_ = sorted(ans_list, key=lambda tup: tup[0])\n",
    "    return sorted_\n",
    "\n",
    "import itertools\n",
    "import operator\n",
    "\n",
    "def most_common(L):\n",
    "    SL = sorted((x, i) for i, x in enumerate(L))\n",
    "    groups = itertools.groupby(SL, key=operator.itemgetter(0))\n",
    "    def _auxfun(g):\n",
    "        item, iterable = g\n",
    "        count = 0\n",
    "        min_index = len(L)\n",
    "        for _, where in iterable:\n",
    "            count += 1\n",
    "            min_index = min(min_index, where)\n",
    "        return count, -min_index\n",
    "    return max(groups, key=_auxfun)[0]\n",
    "\n",
    "def kNN(img, train_set, train_label, k):\n",
    "    ans_list = sq_err(img, train_set, train_label)\n",
    "    count = []\n",
    "    for i in range(k):\n",
    "        count.append(ans_list[i][1])\n",
    "    return most_common(count)\n"
   ]
  },
  {
   "cell_type": "code",
   "execution_count": 18,
   "metadata": {
    "collapsed": false
   },
   "outputs": [
    {
     "name": "stdout",
     "output_type": "stream",
     "text": [
      "Results iterating over N\n",
      "[[  5 107]\n",
      " [ 50  40]\n",
      " [100  27]\n",
      " [200  17]\n",
      " [400   9]\n",
      " [800  12]]\n"
     ]
    },
    {
     "data": {
      "image/png": "[encoded data removed]",
      "text/plain": [
       "<matplotlib.figure.Figure at 0x1066f9250>"
      ]
     },
     "metadata": {},
     "output_type": "display_data"
    },
    {
     "name": "stdout",
     "output_type": "stream",
     "text": [
      "\n",
      "Results iterating over K\n",
      "[[  1  12]\n",
      " [  3   8]\n",
      " [  5  10]\n",
      " [  7   9]\n",
      " [ 21  11]\n",
      " [101  24]\n",
      " [401  51]]\n"
     ]
    },
    {
     "data": {
      "image/png": "[encoded data removed]",
      "text/plain": [
       "<matplotlib.figure.Figure at 0x106367d10>"
      ]
     },
     "metadata": {},
     "output_type": "display_data"
    }
   ],
   "source": [
    "# Task 1 and 2 - Running things\n",
    "def part3_run(N=5, k=1):\n",
    "    num_err = 0\n",
    "    for i in range(x_eval.shape[0]):\n",
    "        label = kNN(x_eval[i], x[0:N], t, k)\n",
    "        if label != t_eval[i]:\n",
    "            num_err += 1\n",
    "    return num_err\n",
    "\n",
    "def task1():\n",
    "    N_list = [5, 50, 100, 200, 400, 800]\n",
    "    err_list = []\n",
    "    for N_ in N_list:\n",
    "        err_list.append(part3_run(N=N_))\n",
    "    print np.column_stack((N_list, err_list))\n",
    "    plt.plot(N_list, err_list)\n",
    "    plt.show()\n",
    "\n",
    "def task2():\n",
    "    k_list = [1, 3, 5, 7, 21, 101, 401]\n",
    "    err_list = []\n",
    "    for k_ in k_list:\n",
    "        err_list.append(part3_run(N=800, k=k_))\n",
    "    print np.column_stack((k_list, err_list))\n",
    "    plt.plot(k_list, err_list)\n",
    "\n",
    "print \"Results iterating over N\"\n",
    "task1()\n",
    "\n",
    "print \"\"\n",
    "print \"Results iterating over K\"\n",
    "task2()"
   ]
  },
  {
   "cell_type": "code",
   "execution_count": 19,
   "metadata": {
    "collapsed": false
   },
   "outputs": [
    {
     "data": {
      "text/plain": [
       "[<matplotlib.lines.Line2D at 0x106058510>]"
      ]
     },
     "execution_count": 19,
     "metadata": {},
     "output_type": "execute_result"
    },
    {
     "data": {
      "image/png": "[encoded data removed]",
      "text/plain": [
       "<matplotlib.figure.Figure at 0x10655f050>"
      ]
     },
     "metadata": {},
     "output_type": "display_data"
    }
   ],
   "source": [
    "# Just plotting the function\n",
    "\n",
    "train_x = np.linspace(1.0, 10.0, num=100)[:, np. newaxis]\n",
    "train_y = np.sin(train_x) + 0.1*np.power(train_x, 2) + 0.5*np.random.randn(100, 1)\n",
    "plt.plot(train_x, train_y)"
   ]
  },
  {
   "cell_type": "code",
   "execution_count": 20,
   "metadata": {
    "collapsed": false
   },
   "outputs": [
    {
     "name": "stdout",
     "output_type": "stream",
     "text": [
      "194555.707608\n"
     ]
    },
    {
     "data": {
      "image/png": "[encoded data removed]",
      "text/plain": [
       "<matplotlib.figure.Figure at 0x1063d2c90>"
      ]
     },
     "metadata": {},
     "output_type": "display_data"
    }
   ],
   "source": [
    "# Task 3 - Gradient descent\n",
    "x = np.copy(train_x)\n",
    "y = np.copy(train_y)\n",
    "\n",
    "w = np.random.rand(2)\n",
    "x = np.column_stack((np.ones(x.shape[0]), x))\n",
    "\n",
    "for i in range(1000):\n",
    "    y_estimate = x.dot(w)\n",
    "    y_estimate = y_estimate.reshape(y_estimate.shape[0], 1)\n",
    "    delta = y - y_estimate\n",
    "    w[0], w[1] = w[0] + 0.0002*np.sum(delta * x[:,0].reshape(x.shape[0], 1)), w[1] + 0.0002*np.sum(delta * x[:,1].reshape(x.shape[0], 1))\n",
    "\n",
    "y_estimate = x.dot(w)\n",
    "plt.plot(x, y_estimate, train_x, train_y)\n",
    "delta = y - y_estimate\n",
    "print np.sum(np.power(delta, 2))"
   ]
  },
  {
   "cell_type": "code",
   "execution_count": 21,
   "metadata": {
    "collapsed": false
   },
   "outputs": [
    {
     "name": "stdout",
     "output_type": "stream",
     "text": [
      "155.17746345\n"
     ]
    },
    {
     "data": {
      "image/png": "[encoded data removed]",
      "text/plain": [
       "<matplotlib.figure.Figure at 0x1063dedd0>"
      ]
     },
     "metadata": {},
     "output_type": "display_data"
    }
   ],
   "source": [
    "# Task 3 - Exact solution\n",
    "from numpy.linalg import inv\n",
    "\n",
    "w = inv(np.matrix(x.T)*np.matrix(x)) * (np.matrix(x.T) * np.matrix(y))\n",
    "y_estimate = x.dot(w)\n",
    "plt.plot(x, y, x, y_estimate)\n",
    "delta = y - y_estimate\n",
    "print np.sum(np.power(delta, 2))"
   ]
  },
  {
   "cell_type": "code",
   "execution_count": 22,
   "metadata": {
    "collapsed": false
   },
   "outputs": [
    {
     "name": "stdout",
     "output_type": "stream",
     "text": [
      "22.2508880184\n"
     ]
    },
    {
     "data": {
      "image/png": "[encoded data removed]",
      "text/plain": [
       "<matplotlib.figure.Figure at 0x105d136d0>"
      ]
     },
     "metadata": {},
     "output_type": "display_data"
    }
   ],
   "source": [
    "# Task 4\n",
    "x = np.copy(train_x)\n",
    "y = np.copy(train_y)\n",
    "\n",
    "w = np.random.rand(6)\n",
    "x = np.column_stack((np.ones(x.shape[0]), x))\n",
    "for i in range(2, 6):\n",
    "    x = np.column_stack((x, np.power(x[:,1], i)))\n",
    "\n",
    "w = inv(np.matrix(x.T)*np.matrix(x)) * (np.matrix(x.T) * np.matrix(y))\n",
    "y_estimate = x.dot(w)\n",
    "plt.plot(train_x, y, train_x, y_estimate)\n",
    "delta = y - y_estimate\n",
    "print np.sum(np.power(delta, 2))"
   ]
  },
  {
   "cell_type": "code",
   "execution_count": 23,
   "metadata": {
    "collapsed": false
   },
   "outputs": [],
   "source": [
    "with np.load(\"TINY_MNIST.npz\") as data:\n",
    "    x, t = data[\"x\"], data[\"t\"]\n",
    "    x_eval, t_eval = data[\"x_eval\"], data[\"t_eval\"]"
   ]
  },
  {
   "cell_type": "code",
   "execution_count": 28,
   "metadata": {
    "collapsed": false
   },
   "outputs": [
    {
     "name": "stdout",
     "output_type": "stream",
     "text": [
      "[[ 100.  101.]\n",
      " [ 200.   85.]\n",
      " [ 400.   99.]\n",
      " [ 800.  101.]]\n"
     ]
    }
   ],
   "source": [
    "# Task 5\n",
    "# Assume minibatach of size 10\n",
    "\n",
    "# one loop\n",
    "def grad_desc(x, t, w, minibatch_size=1, lamb=0, repeats=2000):\n",
    "    w_result = np.zeros(w.shape[0])\n",
    "    random_list = []\n",
    "    for repeat in range(repeats):\n",
    "        # generate minibatch\n",
    "        random_batch = np.random.randint(x.shape[0], size=minibatch_size)\n",
    "        random_list = np.concatenate((random_list, random_batch))\n",
    "        x_copy = np.copy(x)\n",
    "        t_copy = np.copy(t)\n",
    "        x_copy = x_copy[random_batch]\n",
    "        t_copy = t_copy[random_batch]\n",
    "        \n",
    "        # actual calculations\n",
    "        y_estimate = x_copy.dot(w)\n",
    "        y_estimate = y_estimate.reshape(y_estimate.shape[0], 1)\n",
    "        delta = y_estimate - t_copy\n",
    "\n",
    "        derivatives = np.zeros(w.shape[0])\n",
    "        for j in range(w.shape[0]):\n",
    "            derivatives[j] = np.sum(delta * x_copy[:,j].reshape(x_copy.shape[0], 1)) + lamb*w[j]\n",
    "        for j in range(w.shape[0]):\n",
    "            w[j] -= 0.1*derivatives[j]\n",
    "            \n",
    "        w_result += w\n",
    "        \n",
    "    w[:] = np.copy(w_result)\n",
    "    w /= repeats\n",
    "    return np.unique(random_list)\n",
    "\n",
    "def task5():\n",
    "    N_list = [100, 200, 400, 800]\n",
    "    err_list = []\n",
    "    minibatch_size = 1\n",
    "    for N in N_list:\n",
    "        x_copy = np.copy(x)\n",
    "        x_copy = x_copy[0:N]\n",
    "        t_copy = np.copy(t)\n",
    "        t_copy = t_copy[0:N]\n",
    "        \n",
    "        # initialize w, since x is 64-D need +1 to make x0 = 1\n",
    "        x_copy = np.column_stack((np.ones(x_copy.shape[0]), x_copy))\n",
    "        w = np.random.rand(x_copy.shape[1])\n",
    "\n",
    "        grad_desc(x_copy, t_copy, w, minibatch_size)\n",
    "        \n",
    "        x_eval_copy = np.copy(x_eval)\n",
    "        x_eval_copy = np.column_stack((np.ones(x_eval_copy.shape[0]), x_eval_copy))\n",
    "        y_estimate = x_eval_copy.dot(w)\n",
    "\n",
    "        y_round = [0 if num < 0.5 else 1 for num in y_estimate]\n",
    "        y_round = np.array(y_round)\n",
    "        y_round = y_round.reshape((t_eval.shape[0], 1))\n",
    "        \n",
    "        err_list.append(np.sum(np.abs(t_eval - y_round)))\n",
    "        \n",
    "    print np.column_stack((N_list, err_list))\n",
    "        \n",
    "task5()"
   ]
  },
  {
   "cell_type": "code",
   "execution_count": 25,
   "metadata": {
    "collapsed": false
   },
   "outputs": [
    {
     "name": "stdout",
     "output_type": "stream",
     "text": [
      "[[    1.   199.     4.]\n",
      " [   10.   214.    23.]\n",
      " [   50.   190.    15.]\n",
      " [  100.   173.    15.]\n",
      " [  500.    89.     2.]\n",
      " [ 1000.    76.     1.]\n",
      " [ 5000.    66.     0.]]\n"
     ]
    },
    {
     "data": {
      "image/png": "[encoded data removed]",
      "text/plain": [
       "<matplotlib.figure.Figure at 0x1065fec50>"
      ]
     },
     "metadata": {},
     "output_type": "display_data"
    }
   ],
   "source": [
    "def task6():\n",
    "    repeat_list = [1, 10, 50, 100, 500, 1000, 5000]\n",
    "    err_list = []\n",
    "    train_err_list = []\n",
    "    minibatch_size = 1\n",
    "    for R in repeat_list:\n",
    "        x_copy = np.copy(x)\n",
    "        x_copy = x_copy[0:50]\n",
    "        t_copy = np.copy(t)\n",
    "        t_copy = t_copy[0:50]\n",
    "        \n",
    "        # initialize w, since x is 64-D need +1 to make x0 = 1\n",
    "        x_copy = np.column_stack((np.ones(x_copy.shape[0]), x_copy))\n",
    "        w = np.random.rand(x_copy.shape[1])\n",
    "\n",
    "        train_list = grad_desc(x_copy, t_copy, w, minibatch_size, repeats=R)\n",
    "        \n",
    "        # validation set\n",
    "        x_eval_copy = np.copy(x_eval)\n",
    "        x_eval_copy = np.column_stack((np.ones(x_eval_copy.shape[0]), x_eval_copy))\n",
    "        y_estimate = x_eval_copy.dot(w)\n",
    "\n",
    "        y_round = [0 if num < 0.5 else 1 for num in y_estimate]\n",
    "        y_round = np.array(y_round)\n",
    "        y_round = y_round.reshape((t_eval.shape[0], 1))\n",
    "        \n",
    "        err_list.append(np.sum(np.abs(t_eval - y_round)))\n",
    "        \n",
    "        # training set\n",
    "        train_list = train_list.astype(int)\n",
    "        x_tra = x_copy[train_list]\n",
    "        y_estimate_tra = x_tra.dot(w)\n",
    "        y_round_tra = [0 if num < 0.5 else 1 for num in y_estimate_tra]\n",
    "        y_round_tra = np.array(y_round_tra)\n",
    "        y_round_tra = y_round_tra.reshape((t_copy[train_list].shape[0], 1))\n",
    "        train_err_list.append(np.sum(np.abs(t_copy[train_list] - y_round_tra)))\n",
    "\n",
    "    np.set_printoptions(suppress=True)\n",
    "    print np.column_stack((repeat_list, err_list, train_err_list))\n",
    "    plt.plot(repeat_list, err_list, repeat_list, train_err_list)\n",
    "    \n",
    "task6()"
   ]
  },
  {
   "cell_type": "code",
   "execution_count": 26,
   "metadata": {
    "collapsed": false
   },
   "outputs": [
    {
     "name": "stdout",
     "output_type": "stream",
     "text": [
      "[[   0.       83.    ]\n",
      " [   0.0001  106.    ]\n",
      " [   0.001    66.    ]\n",
      " [   0.01     84.    ]\n",
      " [   0.1      62.    ]\n",
      " [   0.5      48.    ]]\n"
     ]
    }
   ],
   "source": [
    "def task7():\n",
    "    lamb_list = [0, 0.0001, 0.001, 0.01, 0.1, 0.5]\n",
    "    err_list = []\n",
    "    train_err_list = []\n",
    "    minibatch_size = 10\n",
    "    for lamb in lamb_list:\n",
    "        x_copy = np.copy(x)\n",
    "        x_copy = x_copy[0:50]\n",
    "        t_copy = np.copy(t)\n",
    "        t_copy = t_copy[0:50]\n",
    "        \n",
    "        # initialize w, since x is 64-D need +1 to make x0 = 1\n",
    "        x_copy = np.column_stack((np.ones(x_copy.shape[0]), x_copy))\n",
    "        w = np.random.rand(x_copy.shape[1])\n",
    "        \n",
    "        train_list = grad_desc(x_copy, t_copy, w, minibatch_size, lamb=lamb, repeats=1000)\n",
    "        \n",
    "        # validation set\n",
    "        x_eval_copy = np.copy(x_eval)\n",
    "        x_eval_copy = np.column_stack((np.ones(x_eval_copy.shape[0]), x_eval_copy))\n",
    "        y_estimate = x_eval_copy.dot(w)\n",
    "\n",
    "        y_round = [0 if num < 0.5 else 1 for num in y_estimate]\n",
    "        y_round = np.array(y_round)\n",
    "        y_round = y_round.reshape((t_eval.shape[0], 1))\n",
    "        \n",
    "        err_list.append(np.sum(np.abs(t_eval - y_round)))\n",
    "        \n",
    "        \"\"\"\n",
    "        # training set\n",
    "        train_list = train_list.astype(int)\n",
    "        x_tra = x_copy[train_list]\n",
    "        y_estimate_tra = x_tra.dot(w)\n",
    "        y_round_tra = [0 if num < 0.5 else 1 for num in y_estimate_tra]\n",
    "        y_round_tra = np.array(y_round_tra)\n",
    "        y_round_tra = y_round_tra.reshape((t_copy[train_list].shape[0], 1))\n",
    "        train_err_list.append(np.sum(np.abs(t_copy[train_list] - y_round_tra)))\n",
    "        \"\"\"\n",
    "        \n",
    "    print np.column_stack((lamb_list, err_list))\n",
    "    \n",
    "task7()"
   ]
  }
 ],
 "metadata": {
  "kernelspec": {
   "display_name": "Python 2",
   "language": "python",
   "name": "python2"
  },
  "language_info": {
   "codemirror_mode": {
    "name": "ipython",
    "version": 2
   },
   "file_extension": ".py",
   "mimetype": "text/x-python",
   "name": "python",
   "nbconvert_exporter": "python",
   "pygments_lexer": "ipython2",
   "version": "2.7.10"
  }
 },
 "nbformat": 4,
 "nbformat_minor": 0
}
