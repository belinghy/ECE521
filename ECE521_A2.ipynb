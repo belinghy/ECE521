{
 "cells": [
  {
   "cell_type": "code",
   "execution_count": 189,
   "metadata": {
    "collapsed": false
   },
   "outputs": [
    {
     "name": "stdout",
     "output_type": "stream",
     "text": [
      "(15000, 784)\n"
     ]
    }
   ],
   "source": [
    "%matplotlib inline\n",
    "import numpy as np\n",
    "import tensorflow as tf\n",
    "with np.load(\"notMNIST.npz\") as data:\n",
    "    images, labels = data[\"images\"], data[\"labels\"]\n",
    "from matplotlib import pyplot as plt\n",
    "\n",
    "# Change labels into correct format\n",
    "labels_temp = []\n",
    "for label in labels:\n",
    "    temp = np.zeros(10)\n",
    "    temp[label[0]] = 1\n",
    "    labels_temp.append(temp)\n",
    "labels = np.array(labels_temp)\n",
    "\n",
    "# Normalize images\n",
    "images = images / 255.0\n",
    "images = images.reshape(28*28, 18720).T\n",
    "\n",
    "training_set = images[0:15000]\n",
    "training_labels = labels[0:15000]\n",
    "validation_set = images[15000:16000]\n",
    "validation_labels = labels[15000:16000]\n",
    "testing_set = images[16000:]\n",
    "testing_labels = labels[16000:]"
   ]
  },
  {
   "cell_type": "code",
   "execution_count": 185,
   "metadata": {
    "collapsed": false
   },
   "outputs": [
    {
     "name": "stdout",
     "output_type": "stream",
     "text": [
      "15000\n"
     ]
    },
    {
     "name": "stderr",
     "output_type": "stream",
     "text": [
      "/Users/benling/anaconda/lib/python2.7/site-packages/ipykernel/__main__.py:25: DeprecationWarning: using a non-integer number instead of an integer will result in an error in the future\n"
     ]
    },
    {
     "ename": "IndexError",
     "evalue": "too many indices for array",
     "output_type": "error",
     "traceback": [
      "\u001b[0;31m---------------------------------------------------------------------------\u001b[0m",
      "\u001b[0;31mIndexError\u001b[0m                                Traceback (most recent call last)",
      "\u001b[0;32m<ipython-input-185-722ea0366e60>\u001b[0m in \u001b[0;36m<module>\u001b[0;34m()\u001b[0m\n\u001b[1;32m     31\u001b[0m \u001b[0;32mfor\u001b[0m \u001b[0mi\u001b[0m \u001b[0;32min\u001b[0m \u001b[0mrange\u001b[0m\u001b[0;34m(\u001b[0m\u001b[0;36m1\u001b[0m\u001b[0;34m)\u001b[0m\u001b[0;34m:\u001b[0m\u001b[0;34m\u001b[0m\u001b[0m\n\u001b[1;32m     32\u001b[0m     \u001b[0mrandom_data_point\u001b[0m \u001b[0;34m=\u001b[0m \u001b[0mnp\u001b[0m\u001b[0;34m.\u001b[0m\u001b[0mrandom\u001b[0m\u001b[0;34m.\u001b[0m\u001b[0mrandint\u001b[0m\u001b[0;34m(\u001b[0m\u001b[0mnum_of_input\u001b[0m\u001b[0;34m)\u001b[0m\u001b[0;34m\u001b[0m\u001b[0m\n\u001b[0;32m---> 33\u001b[0;31m     \u001b[0mbatch_xs\u001b[0m \u001b[0;34m=\u001b[0m \u001b[0mtraining_set\u001b[0m\u001b[0;34m[\u001b[0m\u001b[0;34m:\u001b[0m\u001b[0;34m,\u001b[0m\u001b[0;34m:\u001b[0m\u001b[0;34m,\u001b[0m\u001b[0mrandom_data_point\u001b[0m\u001b[0;34m]\u001b[0m\u001b[0;34m.\u001b[0m\u001b[0mreshape\u001b[0m\u001b[0;34m(\u001b[0m\u001b[0;36m28\u001b[0m\u001b[0;34m*\u001b[0m\u001b[0;36m28\u001b[0m\u001b[0;34m,\u001b[0m \u001b[0;36m1\u001b[0m\u001b[0;34m)\u001b[0m\u001b[0;34m.\u001b[0m\u001b[0mT\u001b[0m\u001b[0;34m\u001b[0m\u001b[0m\n\u001b[0m\u001b[1;32m     34\u001b[0m     \u001b[0mbatch_labels\u001b[0m \u001b[0;34m=\u001b[0m \u001b[0mtraining_labels_temp\u001b[0m\u001b[0;34m[\u001b[0m\u001b[0mrandom_data_point\u001b[0m\u001b[0;34m]\u001b[0m\u001b[0;34m.\u001b[0m\u001b[0mreshape\u001b[0m\u001b[0;34m(\u001b[0m\u001b[0;36m10\u001b[0m\u001b[0;34m,\u001b[0m \u001b[0;36m1\u001b[0m\u001b[0;34m)\u001b[0m\u001b[0;34m.\u001b[0m\u001b[0mT\u001b[0m\u001b[0;34m\u001b[0m\u001b[0m\n\u001b[1;32m     35\u001b[0m     \u001b[0msess\u001b[0m\u001b[0;34m.\u001b[0m\u001b[0mrun\u001b[0m\u001b[0;34m(\u001b[0m\u001b[0mtrain_step\u001b[0m\u001b[0;34m,\u001b[0m \u001b[0mfeed_dict\u001b[0m\u001b[0;34m=\u001b[0m\u001b[0;34m{\u001b[0m\u001b[0mX\u001b[0m\u001b[0;34m:\u001b[0m \u001b[0mbatch_xs\u001b[0m\u001b[0;34m,\u001b[0m \u001b[0mY\u001b[0m\u001b[0;34m:\u001b[0m \u001b[0mbatch_labels\u001b[0m\u001b[0;34m}\u001b[0m\u001b[0;34m)\u001b[0m\u001b[0;34m\u001b[0m\u001b[0m\n",
      "\u001b[0;31mIndexError\u001b[0m: too many indices for array"
     ]
    }
   ],
   "source": [
    "X = tf.placeholder(\"float\", shape=(None, 28*28))\n",
    "Y = tf.placeholder(\"float\", shape=(None, 10))\n",
    "\n",
    "W = tf.Variable(np.random.randn(28*28, 10).astype(\"float32\"), name=\"weight\")\n",
    "W = tf.Variable(tf.zeros([784, 10]))\n",
    "b = tf.Variable(np.random.randn(10).astype(\"float32\"), name=\"bias\")\n",
    "b = tf.Variable(tf.zeros([10]))\n",
    "\n",
    "\n",
    "probability = tf.nn.softmax(tf.matmul(X, W) + b)\n",
    "cross_entropy = -tf.reduce_sum(Y * tf.log(probability))\n",
    "\n",
    "train_step = tf.train.GradientDescentOptimizer(0.0001).minimize(cross_entropy)\n",
    "init = tf.initialize_all_variables()\n",
    "\n",
    "sess = tf.Session()\n",
    "sess.run(init)\n",
    "\n",
    "num_of_input = training_set.shape[0]\n",
    "batch_size = 1\n",
    "\n",
    "for i in range(1):\n",
    "    random_data_point = np.random.randint(num_of_input, size=1)\n",
    "    batch_xs = training_set[random_data_point]\n",
    "    batch_labels = training_labels[random_data_point]\n",
    "    sess.run(train_step, feed_dict={X: batch_xs, Y: batch_labels})\n",
    "\n",
    "correct_prediction = tf.equal(tf.argmax(probability,1), tf.argmax(Y,1))\n",
    "accuracy = tf.reduce_mean(tf.cast(correct_prediction, tf.float32))\n",
    "print sess.run(accuracy, feed_dict={X: training_set.reshape(28*28, num_of_input). , Y: training_labels_temp})\n",
    "\n"
   ]
  },
  {
   "cell_type": "code",
   "execution_count": 83,
   "metadata": {
    "collapsed": false
   },
   "outputs": [
    {
     "name": "stdout",
     "output_type": "stream",
     "text": [
      "0.100133\n"
     ]
    }
   ],
   "source": [
    "correct_prediction = tf.equal(tf.argmax(probability,1), tf.argmax(Y,1))\n",
    "accuracy = tf.reduce_mean(tf.cast(correct_prediction, tf.float32))\n",
    "print sess.run(accuracy, feed_dict={X: training_set.reshape(28*28, num_of_input).T , Y: training_labels_temp})\n"
   ]
  },
  {
   "cell_type": "code",
   "execution_count": 62,
   "metadata": {
    "collapsed": false
   },
   "outputs": [
    {
     "name": "stdout",
     "output_type": "stream",
     "text": [
      "Extracting MNIST_data/train-images-idx3-ubyte.gz\n",
      "Extracting MNIST_data/train-labels-idx1-ubyte.gz\n",
      "Extracting MNIST_data/t10k-images-idx3-ubyte.gz\n",
      "Extracting MNIST_data/t10k-labels-idx1-ubyte.gz\n"
     ]
    }
   ],
   "source": [
    "from tensorflow.examples.tutorials.mnist import input_data\n",
    "mnist = input_data.read_data_sets(\"MNIST_data/\", one_hot=True)"
   ]
  },
  {
   "cell_type": "code",
   "execution_count": 126,
   "metadata": {
    "collapsed": false
   },
   "outputs": [
    {
     "name": "stdout",
     "output_type": "stream",
     "text": [
      "[[[ 0.6745098   0.59607843  0.         ...,  0.56862745  0.          0.        ]\n",
      "  [ 1.          0.96470588  0.         ...,  0.96862745  0.          0.        ]\n",
      "  [ 0.97254902  1.          0.00784314 ...,  1.          0.          0.        ]\n",
      "  ..., \n",
      "  [ 1.          1.          0.         ...,  0.          0.01176471\n",
      "    0.01176471]\n",
      "  [ 1.          0.96470588  0.         ...,  0.          0.39215686  0.        ]\n",
      "  [ 1.          0.59607843  0.         ...,  0.          0.31764706  0.        ]]\n",
      "\n",
      " [[ 0.71372549  0.          0.         ...,  0.          0.          0.        ]\n",
      "  [ 1.          0.12156863  0.00392157 ...,  0.39215686  0.          0.        ]\n",
      "  [ 0.99215686  0.32941176  0.         ...,  1.          0.          0.        ]\n",
      "  ..., \n",
      "  [ 1.          0.32941176  0.35294118 ...,  0.          0.83529412  0.        ]\n",
      "  [ 1.          0.12156863  0.46666667 ...,  0.          1.          0.01176471]\n",
      "  [ 1.          0.          0.11372549 ...,  0.          0.61568627  0.        ]]\n",
      "\n",
      " [[ 0.32156863  0.          0.         ...,  0.00784314  0.          0.        ]\n",
      "  [ 0.48235294  0.          0.00784314 ...,  0.          0.          0.        ]\n",
      "  [ 0.4745098   0.          0.         ...,  0.72156863  0.          0.        ]\n",
      "  ..., \n",
      "  [ 1.          0.          1.         ...,  0.00784314  0.98431373\n",
      "    0.23529412]\n",
      "  [ 0.99607843  0.          0.63921569 ...,  0.          1.          0.        ]\n",
      "  [ 1.          0.          0.         ...,  0.          0.67058824\n",
      "    0.00784314]]\n",
      "\n",
      " ..., \n",
      " [[ 0.32156863  0.          0.         ...,  0.          0.          0.2       ]\n",
      "  [ 0.48235294  0.          0.         ...,  0.10980392  0.          0.97647059]\n",
      "  [ 0.4745098   0.          0.         ...,  0.92156863  0.00784314  1.        ]\n",
      "  ..., \n",
      "  [ 1.          0.          0.         ...,  0.          0.01176471  0.        ]\n",
      "  [ 0.99607843  0.          0.         ...,  0.00392157  0.          0.        ]\n",
      "  [ 1.          0.          0.         ...,  0.          0.          0.        ]]\n",
      "\n",
      " [[ 0.71372549  0.          0.         ...,  0.          0.          0.49803922]\n",
      "  [ 1.          0.08627451  0.         ...,  0.54117647  0.          1.        ]\n",
      "  [ 0.99215686  0.27058824  0.         ...,  1.          0.          0.98823529]\n",
      "  ..., \n",
      "  [ 1.          0.27058824  0.         ...,  0.00392157  0.00392157  0.        ]\n",
      "  [ 1.          0.08627451  0.         ...,  0.          0.          0.        ]\n",
      "  [ 1.          0.          0.         ...,  0.          0.          0.        ]]\n",
      "\n",
      " [[ 0.6745098   0.57647059  0.         ...,  0.56862745  0.          0.72941176]\n",
      "  [ 1.          0.9372549   0.         ...,  0.98823529  0.          1.        ]\n",
      "  [ 0.97254902  0.99215686  0.         ...,  1.          0.          0.99215686]\n",
      "  ..., \n",
      "  [ 1.          0.99215686  0.         ...,  0.          0.00392157  0.        ]\n",
      "  [ 1.          0.9372549   0.         ...,  0.          0.          0.        ]\n",
      "  [ 1.          0.57647059  0.         ...,  0.          0.          0.        ]]]\n"
     ]
    }
   ],
   "source": [
    "batch_xs, batch_ys = mnist.train.next_batch(100)\n",
    "#print batch_xs[0]\n",
    "print training_set / 255.0"
   ]
  }
 ],
 "metadata": {
  "kernelspec": {
   "display_name": "Python 2",
   "language": "python",
   "name": "python2"
  },
  "language_info": {
   "codemirror_mode": {
    "name": "ipython",
    "version": 2
   },
   "file_extension": ".py",
   "mimetype": "text/x-python",
   "name": "python",
   "nbconvert_exporter": "python",
   "pygments_lexer": "ipython2",
   "version": "2.7.10"
  }
 },
 "nbformat": 4,
 "nbformat_minor": 0
}
